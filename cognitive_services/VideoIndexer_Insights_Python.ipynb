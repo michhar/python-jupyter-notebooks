{
 "cells": [
  {
   "cell_type": "markdown",
   "metadata": {
    "collapsed": true
   },
   "source": [
    "# Video Indexer Python Sample\n",
    "\n",
    "This sample will be using a simple `requests` library wrapper around the Microsoft Video Indexer API based on an OSS project:  https://github.com/bklim5/python_video_indexer_lib.\n",
    "\n",
    "Resources:\n",
    "\n",
    "* <a href=\"https://docs.microsoft.com/en-us/azure/media-services/video-indexer/\" target=\"_blank\">Video Indexer Docs</a>\n",
    "* <a href=\"https://api-portal.videoindexer.ai\" target=\"_blank\">Video Indexer Developer Portal</a>\n",
    "* <a href=\"https://api-portal.videoindexer.ai/docs/services\" target=\"_blank\">Video Indexer API Reference</a>\n",
    "* <a href=\"http://2.python-requests.org/en/latest/\" target=\"_blank\">Python Requests library</a>"
   ]
  },
  {
   "cell_type": "markdown",
   "metadata": {},
   "source": [
    "## Setup and imports"
   ]
  },
  {
   "cell_type": "code",
   "execution_count": null,
   "metadata": {},
   "outputs": [],
   "source": [
    "import os\n",
    "import requests"
   ]
  },
  {
   "cell_type": "markdown",
   "metadata": {},
   "source": [
    "Download a public video of fish swimming, locally:"
   ]
  },
  {
   "cell_type": "code",
   "execution_count": null,
   "metadata": {},
   "outputs": [],
   "source": [
    "! curl -O https://github.com/Azadehkhojandi/computer-vision-fish-frame-proposal/raw/master/videos/video1.mp4"
   ]
  },
  {
   "cell_type": "code",
   "execution_count": null,
   "metadata": {},
   "outputs": [],
   "source": [
    "# A local file (we can also send URLs such as private blob storage links)\n",
    "video_file = 'video1.mp4'"
   ]
  },
  {
   "cell_type": "markdown",
   "metadata": {},
   "source": [
    "## Initialize with Video Indexer (VI) account info\n",
    "\n",
    "SUBSCRIPTION_KEY can be found at https://api-portal.videoindexer.ai/developer (go to your user name --> Profile) and LOCATION & ACCOUNT_ID can be found at https://www.videoindexer.ai/settings/account.  If this is a trial account, use \"trial\" as LOCATION."
   ]
  },
  {
   "cell_type": "code",
   "execution_count": null,
   "metadata": {},
   "outputs": [],
   "source": [
    "CONFIG = {\n",
    "    'SUBSCRIPTION_KEY': '<VI subscription key>',\n",
    "    'LOCATION': '<azure region of VI e.g. westus>',\n",
    "    'ACCOUNT_ID': '<VI account ID>'\n",
    "}"
   ]
  },
  {
   "cell_type": "code",
   "execution_count": null,
   "metadata": {},
   "outputs": [],
   "source": [
    "headers = {\n",
    "    'Ocp-Apim-Subscription-Key': CONFIG['SUBSCRIPTION_KEY']\n",
    "}\n",
    "\n",
    "params = {\n",
    "    'allowEdit': 'True'\n",
    "}\n",
    "\n",
    "access_token_req = requests.get(\n",
    "    'https://api.videoindexer.ai/auth/{loc}/Accounts/{acc_id}/AccessToken'.format(\n",
    "        loc=CONFIG['LOCATION'],\n",
    "        acc_id=CONFIG['ACCOUNT_ID']\n",
    "    ),\n",
    "    params=params,\n",
    "    headers=headers\n",
    ")\n",
    "\n",
    "access_token = access_token_req.text[1:-1]\n",
    "print('Access Token: {}'.format(access_token))"
   ]
  },
  {
   "cell_type": "markdown",
   "metadata": {},
   "source": [
    "## Upload a video for indexing\n",
    "\n",
    "More information on parameters can be found at https://docs.microsoft.com/en-us/azure/media-services/video-indexer/upload-index-videos."
   ]
  },
  {
   "cell_type": "code",
   "execution_count": null,
   "metadata": {},
   "outputs": [],
   "source": [
    "def upload_to_video_indexer(access_token, input_filename, video_name='', video_language='English'):\n",
    "    \"\"\"Upload a video file to a Video Indexer account\"\"\"\n",
    "    print('Uploading video to video indexer...')\n",
    "    params = {\n",
    "        'streamingPreset': 'Default',\n",
    "        'indexingPreset': 'Default',\n",
    "        'language': video_language,\n",
    "        'name': video_name,\n",
    "        'accessToken': access_token\n",
    "    }\n",
    "\n",
    "    files = {\n",
    "        'file': open(input_filename, 'rb')\n",
    "    }\n",
    "\n",
    "    upload_video_req = requests.post(\n",
    "        'https://api.videoindexer.ai/{loc}/Accounts/{acc_id}/Videos'.format(\n",
    "            loc=CONFIG['LOCATION'],\n",
    "            acc_id=CONFIG['ACCOUNT_ID']\n",
    "        ),\n",
    "        params=params,\n",
    "        files=files\n",
    "    )\n",
    "\n",
    "    if upload_video_req.status_code != 200:\n",
    "        print('Error uploading video to video indexer: {}'.format(upload_video_req.json()))\n",
    "        raise Exception('Error uploading video to video indexer')\n",
    "\n",
    "    response = upload_video_req.json()\n",
    "    return response['id']"
   ]
  },
  {
   "cell_type": "code",
   "execution_count": null,
   "metadata": {},
   "outputs": [],
   "source": [
    "video_id = upload_to_video_indexer(access_token, video_file, video_name='australian-fish-sample')"
   ]
  },
  {
   "cell_type": "markdown",
   "metadata": {},
   "source": [
    "## Analyze video with Video Indexer\n",
    "\n",
    "The `get_video_info` below will indicate the processing status by video id."
   ]
  },
  {
   "cell_type": "code",
   "execution_count": null,
   "metadata": {},
   "outputs": [],
   "source": [
    "def get_video_info(access_token, video_id, video_language='English'):\n",
    "    \"\"\"Indicate the processing status\"\"\"\n",
    "    params = {\n",
    "        'accessToken': access_token,\n",
    "        'language': video_language\n",
    "    }\n",
    "    print('Getting video info for: {}'.format(video_id))\n",
    "\n",
    "    get_video_info_req = requests.get(\n",
    "        'https://api.videoindexer.ai/{loc}/Accounts/{acc_id}/Videos/{video_id}/Index'.format(\n",
    "            loc=CONFIG['LOCATION'],\n",
    "            acc_id=CONFIG['ACCOUNT_ID'],\n",
    "            video_id=video_id\n",
    "        ),\n",
    "        params=params\n",
    "    )\n",
    "    response = get_video_info_req.json()\n",
    "\n",
    "    if response['state'] == 'Processing':\n",
    "        print('Video still processing, current status: {}'.format(\n",
    "            response['videos'][0]['processingProgress']))\n",
    "\n",
    "    return response"
   ]
  },
  {
   "cell_type": "code",
   "execution_count": null,
   "metadata": {},
   "outputs": [],
   "source": [
    "response_video_info = get_video_info(access_token, video_id)"
   ]
  },
  {
   "cell_type": "markdown",
   "metadata": {},
   "source": [
    "## Extract the summary"
   ]
  },
  {
   "cell_type": "code",
   "execution_count": null,
   "metadata": {},
   "outputs": [],
   "source": [
    "def extract_text_summary_from_video_indexer_info(info):\n",
    "    \"\"\"\n",
    "    Extract text features like keywords, sentiment and\n",
    "    transcript\n",
    "    \"\"\"\n",
    "    return {\n",
    "        'durationInSeconds': info['durationInSeconds'],\n",
    "        'numberOfKeywords': len(info['summarizedInsights'].get('keywords', [])),\n",
    "        'keywords': info['summarizedInsights'].get('keywords', []),\n",
    "        'sumOfWordCount': sum(info['summarizedInsights']['statistics']['speakerWordCount'].values()),\n",
    "        'sentimentSeenDurationRatio': {\n",
    "            x['sentimentKey']: x['seenDurationRatio'] for x in info['summarizedInsights']['sentiments']\n",
    "        },\n",
    "        'sentimentScore': {\n",
    "            x['sentimentType']: x['averageScore'] for x in info['videos'][0]['insights'].get('sentiments', [])\n",
    "        },\n",
    "        'transcript': [\n",
    "            {\n",
    "                'confidence': x['confidence'],\n",
    "                'text': x['text'],\n",
    "                'textLength': len(x['text'].split()),\n",
    "                'confidencePerText': x['confidence'] * len(x['text'].split())\n",
    "            } for x in info['videos'][0]['insights'].get('transcript', [])\n",
    "        ]\n",
    "    }"
   ]
  },
  {
   "cell_type": "code",
   "execution_count": null,
   "metadata": {},
   "outputs": [],
   "source": [
    "extract_text_summary_from_video_indexer_info(response_video_info)"
   ]
  },
  {
   "cell_type": "code",
   "execution_count": null,
   "metadata": {},
   "outputs": [],
   "source": [
    "def extract_vision_summary_from_video_indexer_info(info):\n",
    "    \"\"\"Extract visual detected object names\"\"\"\n",
    "    results = {}\n",
    "    for i, label in enumerate(info['summarizedInsights']['labels']):\n",
    "        if 'detected_labels' in results:\n",
    "            results['detected_labels'].append(label['name'])\n",
    "        else:\n",
    "            results['detected_labels'] = [label['name']]\n",
    "    return results"
   ]
  },
  {
   "cell_type": "code",
   "execution_count": null,
   "metadata": {},
   "outputs": [],
   "source": [
    "extract_vision_summary_from_video_indexer_info(response_video_info)"
   ]
  },
  {
   "cell_type": "markdown",
   "metadata": {},
   "source": [
    "## Appendix A:  Get a video into Blob Storage"
   ]
  },
  {
   "cell_type": "markdown",
   "metadata": {},
   "source": [
    "Run a script such as:  https://github.com/michhar/azure-and-ml-utils/blob/master/azure/upload_to_blob_storage.py or, if running the notebook locally, the following snippet with do the trick."
   ]
  },
  {
   "cell_type": "code",
   "execution_count": null,
   "metadata": {},
   "outputs": [],
   "source": [
    "import os\n",
    "from azure.storage.blob import BlockBlobService, PublicAccess\n",
    "import glob\n",
    "\n",
    "# Create the BlockBlockService that is used to call the Blob service for the storage account\n",
    "block_blob_service = BlockBlobService(account_name=args.account, account_key=args.key) \n",
    "\n",
    "# Create a container\n",
    "container_name = args.container\n",
    "block_blob_service.create_container(container_name) \n",
    "\n",
    "# Set the permission so the blobs are public.\n",
    "block_blob_service.set_container_acl(container_name, public_access=PublicAccess.Container)\n",
    "\n",
    "for filename in glob.iglob(os.path.join(args.directory, '**', '*.'+args.suffix), recursive=True):\n",
    "    print('Uploading ', filename)\n",
    "    # Upload the created file, use local_file_name for the blob name\n",
    "    block_blob_service.create_blob_from_path(container_name, filename, filename)\n",
    "\n",
    "# Check that the files uploaded correctly to blob\n",
    "generator = block_blob_service.list_blobs(container_name)\n",
    "for blob in generator:\n",
    "    print(\"Blob name in Azure: \" + blob.name)"
   ]
  },
  {
   "cell_type": "markdown",
   "metadata": {},
   "source": [
    "## Get a video from Blob Storage"
   ]
  },
  {
   "cell_type": "code",
   "execution_count": null,
   "metadata": {},
   "outputs": [],
   "source": [
    "from azure.storage.blob.baseblobservice import BaseBlobService\n",
    "from azure.storage.blob import BlockBlobService, BlobPermissions\n",
    "from datetime import datetime, timedelta\n",
    "\n",
    "account_name = '<your account name>'\n",
    "account_key = '<your account key>'\n",
    "container_name = '<your container name>'\n",
    "blob_name = '<your blob name>'\n",
    "service = BaseBlobService(account_name=account_name, account_key=account_key)\n",
    "\n",
    "token = service.generate_blob_shared_access_signature(container_name, blob_name, BlobPermissions.READ, datetime.utcnow() + timedelta(hours=1),)\n",
    "blobUrlWithSas = f\"https://{account_name}.blob.core.windows.net/{container_name}/{blob_name}?{token}\""
   ]
  }
 ],
 "metadata": {
  "kernelspec": {
   "display_name": "Python 3",
   "language": "python",
   "name": "python3"
  },
  "language_info": {
   "codemirror_mode": {
    "name": "ipython",
    "version": 3
   },
   "file_extension": ".py",
   "mimetype": "text/x-python",
   "name": "python",
   "nbconvert_exporter": "python",
   "pygments_lexer": "ipython3",
   "version": "3.7.3"
  }
 },
 "nbformat": 4,
 "nbformat_minor": 2
}
